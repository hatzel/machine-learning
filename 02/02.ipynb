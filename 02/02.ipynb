{
 "cells": [
  {
   "cell_type": "code",
   "execution_count": 6,
   "metadata": {},
   "outputs": [
    {
     "name": "stdout",
     "output_type": "stream",
     "text": [
      "theta [ 0.00496947 -0.00437481 -0.00752137]\n",
      "trained theta [  40.35480877  -75.53253905  105.47801959]\n"
     ]
    },
    {
     "data": {
      "image/png": "[encoded data removed]",
      "text/plain": [
       "<matplotlib.figure.Figure at 0x7f39b56dbdd8>"
      ]
     },
     "metadata": {},
     "output_type": "display_data"
    }
   ],
   "source": [
    "%matplotlib inline\n",
    "import numpy as np\n",
    "import matplotlib.pyplot as plt\n",
    "from math import pi\n",
    "\n",
    "dtypes = {'names': ('x', 'y', 'class'), 'formats': ('f16', 'f16', 'f16')}\n",
    "data = np.loadtxt(\"data.txt\", delimiter=\" \", dtype=dtypes)\n",
    "\n",
    "def plot(data, cls, color):\n",
    "    filtered = np.array([(x, y, c) for x, y, c in data if c == cls], dtype=dtypes)\n",
    "    plt.scatter(filtered['x'], filtered['y'], c=color, marker='.')\n",
    "    \n",
    "def hyp(theta, x):\n",
    "    return theta.dot(x)\n",
    "\n",
    "def plot_fn(fn, xs, color='black'):\n",
    "    ys = []\n",
    "    for x in xs:\n",
    "        ys.append(fn(x))\n",
    "    plt.plot(xs, ys, color)\n",
    "    \n",
    "def plot_hyp(theta, color):\n",
    "    plot_fn(lambda x: (theta[0] + theta[1]*x)*(-1/theta[2])-2, range(-3, 4), color)\n",
    "\n",
    "def logistic(z):\n",
    "    return 1/(1+np.exp(-z))\n",
    "\n",
    "theta = (np.random.rand(3) * 0.02) - 0.01\n",
    "alpha = 0.05\n",
    "print(\"theta\", theta)\n",
    "\n",
    "plot_hyp(theta, 'blue')\n",
    "iterations = 100\n",
    "for iteration in range(iterations):\n",
    "    for i, x in enumerate(data):\n",
    "        new_theta = np.copy(theta)\n",
    "        for j in range(len(theta)):\n",
    "            new_theta[j] = theta[j] + (alpha * (x['class'] - logistic(hyp(theta, (1, x['x'], x['y'])))) * x[j])\n",
    "        theta = new_theta\n",
    "\n",
    "plot(data, 1, 'green')\n",
    "plot(data, 0, 'red')\n",
    "plot_hyp(theta, 'black')\n",
    "print(\"trained theta\", theta)\n"
   ]
  },
  {
   "cell_type": "code",
   "execution_count": null,
   "metadata": {
    "collapsed": true
   },
   "outputs": [],
   "source": []
  }
 ],
 "metadata": {
  "kernelspec": {
   "display_name": "Python 3",
   "language": "python",
   "name": "python3"
  },
  "language_info": {
   "codemirror_mode": {
    "name": "ipython",
    "version": 3
   },
   "file_extension": ".py",
   "mimetype": "text/x-python",
   "name": "python",
   "nbconvert_exporter": "python",
   "pygments_lexer": "ipython3",
   "version": "3.6.0"
  }
 },
 "nbformat": 4,
 "nbformat_minor": 2
}
