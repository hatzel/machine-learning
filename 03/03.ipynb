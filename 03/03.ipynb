{
 "cells": [
  {
   "cell_type": "code",
   "execution_count": 4,
   "metadata": {
    "collapsed": true
   },
   "outputs": [],
   "source": [
    "from scipy.ndimage import imread\n",
    "%matplotlib inline\n",
    "import numpy as np\n",
    "import matplotlib.pyplot as plt\n",
    "import matplotlib.gridspec as gridspec\n",
    "from math import pi\n",
    "import os"
   ]
  },
  {
   "cell_type": "code",
   "execution_count": 5,
   "metadata": {
    "collapsed": true
   },
   "outputs": [],
   "source": [
    "img = imread(\"negatives/n11.png\")"
   ]
  },
  {
   "cell_type": "code",
   "execution_count": 183,
   "metadata": {
    "collapsed": true
   },
   "outputs": [],
   "source": [
    "def read_images(path):\n",
    "    return [imread(path + name) for name in sorted(os.listdir(path)) if name.endswith(\".png\")]\n",
    "\n",
    "def brightness():\n",
    "    pass\n",
    "\n",
    "def show_images(images):\n",
    "    def subplot(grid, image, index, cmap=None):\n",
    "        subplot = plt.subplot(grid[i*4+index])\n",
    "        subplot.imshow(img, cmap=cmap)\n",
    "        subplot.axis('off')\n",
    "    \n",
    "    grid = gridspec.GridSpec(len(images), 4, hspace=0., wspace=0., left=0, top=1, bottom=0, right=1)\n",
    "    plt.figure(figsize=(100, 100))\n",
    "    for i in range(len(images)):\n",
    "        subplot(grid, images[i], 0)\n",
    "        subplot(grid, images[i][:,:,0], 1, 'gray')\n",
    "        subplot(grid, images[i][:,:,1], 2, 'gray')\n",
    "        subplot(grid, images[i][:,:,2], 3, 'gray')\n",
    "    grid.update(hspace=0.)\n",
    "    plt.show()\n",
    "\n",
    "def features(images):\n",
    "    return np.array([np.average(np.average(image, axis=0), axis=0) for image in images])\n"
   ]
  },
  {
   "cell_type": "code",
   "execution_count": 184,
   "metadata": {},
   "outputs": [],
   "source": [
    "negatives = np.array(read_images(\"negatives/\"))\n",
    "positives = np.array(read_images(\"positives/\"))"
   ]
  },
  {
   "cell_type": "code",
   "execution_count": 185,
   "metadata": {},
   "outputs": [
    {
     "name": "stdout",
     "output_type": "stream",
     "text": [
      "(30, 24, 24, 3)\n",
      "[[ 180.38888889  150.19791667  150.64236111]\n",
      " [ 187.56423611  153.67013889  156.18055556]\n",
      " [ 164.48090278  138.69444444  138.79340278]\n",
      " [ 188.98090278  153.51388889  151.88541667]\n",
      " [ 172.62673611  135.61284722  143.20659722]\n",
      " [ 184.54513889  149.55208333  150.48784722]\n",
      " [ 177.12326389  142.42013889  142.25      ]\n",
      " [ 181.09548611  145.17534722  146.55729167]\n",
      " [ 162.32291667  131.94618056  140.87326389]\n",
      " [ 190.22569444  153.00347222  155.40798611]\n",
      " [ 159.68055556  123.39930556  130.77951389]\n",
      " [ 191.859375    152.47395833  153.28645833]\n",
      " [ 190.41493056  151.90451389  158.54166667]\n",
      " [ 183.015625    142.64236111  148.81944444]\n",
      " [ 183.96354167  149.35069444  151.484375  ]\n",
      " [ 178.16319444  145.73090278  140.79340278]\n",
      " [ 174.78993056  141.36111111  137.6875    ]\n",
      " [ 170.36631944  137.66145833  135.22395833]\n",
      " [ 160.87847222  134.61458333  128.25694444]\n",
      " [ 177.12847222  141.16145833  145.04513889]\n",
      " [ 184.13541667  146.17534722  142.94097222]\n",
      " [ 175.40104167  139.10416667  139.24479167]\n",
      " [ 171.47743056  130.86805556  140.19965278]\n",
      " [ 165.04340278  112.546875    130.72048611]\n",
      " [ 178.38368056  126.97048611  145.30208333]\n",
      " [ 173.04861111  126.109375    133.47743056]\n",
      " [ 168.91145833  128.78993056  135.96875   ]\n",
      " [ 140.53993056  108.13020833  121.94270833]\n",
      " [ 182.01736111  142.16145833  142.94097222]\n",
      " [ 186.60416667  150.78472222  148.58159722]]\n"
     ]
    }
   ],
   "source": [
    "print(positives.shape)\n",
    "print(features(positives))\n"
   ]
  },
  {
   "cell_type": "code",
   "execution_count": null,
   "metadata": {
    "collapsed": true
   },
   "outputs": [],
   "source": []
  },
  {
   "cell_type": "code",
   "execution_count": null,
   "metadata": {
    "collapsed": true
   },
   "outputs": [],
   "source": []
  }
 ],
 "metadata": {
  "kernelspec": {
   "display_name": "Python 3",
   "language": "python",
   "name": "python3"
  },
  "language_info": {
   "codemirror_mode": {
    "name": "ipython",
    "version": 3
   },
   "file_extension": ".py",
   "mimetype": "text/x-python",
   "name": "python",
   "nbconvert_exporter": "python",
   "pygments_lexer": "ipython3",
   "version": "3.6.0"
  }
 },
 "nbformat": 4,
 "nbformat_minor": 2
}
