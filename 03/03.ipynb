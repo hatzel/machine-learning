{
 "cells": [
  {
   "cell_type": "code",
   "execution_count": 15,
   "metadata": {},
   "outputs": [],
   "source": [
    "from scipy.ndimage import imread\n",
    "%matplotlib inline\n",
    "import numpy as np\n",
    "import matplotlib.pyplot as plt\n",
    "import matplotlib.gridspec as gridspec\n",
    "from math import pi as π\n",
    "import os\n",
    "from scipy import ndimage\n",
    "from numpy.linalg import det, inv"
   ]
  },
  {
   "cell_type": "code",
   "execution_count": 16,
   "metadata": {},
   "outputs": [],
   "source": [
    "img = imread(\"negatives/n11.png\")"
   ]
  },
  {
   "cell_type": "code",
   "execution_count": 32,
   "metadata": {
    "collapsed": true
   },
   "outputs": [],
   "source": [
    "def read_images(path):\n",
    "    return [imread(path + name) for name in sorted(os.listdir(path)) if name.endswith(\".png\")]\n",
    "\n",
    "def brightness():\n",
    "    pass\n",
    "\n",
    "def show_images(images):\n",
    "    def subplot(grid, image, index, cmap=None):\n",
    "        subplot = plt.subplot(grid[i*4+index])\n",
    "        subplot.imshow(img, cmap=cmap)\n",
    "        subplot.axis('off')\n",
    "    \n",
    "    grid = gridspec.GridSpec(len(images), 4, hspace=0., wspace=0., left=0, top=1, bottom=0, right=1)\n",
    "    plt.figure(figsize=(100, 100))\n",
    "    for i in range(len(images)):\n",
    "        subplot(grid, images[i], 0)\n",
    "        subplot(grid, images[i][:,:,0], 1, 'gray')\n",
    "        subplot(grid, images[i][:,:,1], 2, 'gray')\n",
    "        subplot(grid, images[i][:,:,2], 3, 'gray')\n",
    "    grid.update(hspace=0.)\n",
    "    plt.show()\n",
    "\n",
    "def rgb_features(images):\n",
    "    return np.array([np.average(np.average(image, axis=0), axis=0) for image in images])\n",
    "\n",
    "def contrast_feature(images):\n",
    "    z = np.ones(shape=(len(images), 1))\n",
    "    return z\n",
    "\n",
    "def deviation_feature(images):\n",
    "    return np.array([[ndimage.standard_deviation(image)] for image in images])\n",
    "\n",
    "def features(images):\n",
    "    f = np.concatenate((rgb_features(images), deviation_feature(images)), axis=1)\n",
    "    return f\n",
    "                   \n",
    "def p(x, µ, Σ, φ):\n",
    "    n = Σ.shape[0]\n",
    "    xµ = np.matrix(x-µ).transpose()\n",
    "    return 1/((2*π) ** (n/2) * det(Σ)**0.5) * np.exp(-0.5 * xµ.transpose() * inv(Σ) * xµ)\n",
    "\n",
    "def confidence(x, µ_0, µ_1, Σ, φ):\n",
    "    return abs(p(x, µ_0, Σ, φ) - p(x, µ_1, Σ, φ))\n",
    "\n",
    "def is_parasite(x, µ_0, µ_1, Σ, φ):\n",
    "    return p(x, µ_0, Σ, φ) < p(x, µ_1, Σ, φ)\n",
    "\n",
    "def chooo_chooo(features_0, features_1):\n",
    "    size = features_0.shape[1]\n",
    "    µ_0 = features_0.mean(axis=0)\n",
    "    µ_1 = features_1.mean(axis=0)\n",
    "    Σ = np.zeros((size, size))\n",
    "    φ = len(features_1)/(len(features_0) + len(features_1))\n",
    "    for f in (features_0, features_1):\n",
    "        for i in range(len(f)):\n",
    "            Σ += np.matrix(f[i] - µ_0).transpose() * np.matrix(f[i] - µ_0)\n",
    "    return (µ_0, µ_1, Σ, φ)"
   ]
  },
  {
   "cell_type": "code",
   "execution_count": 33,
   "metadata": {
    "collapsed": true
   },
   "outputs": [],
   "source": [
    "negatives = np.array(read_images(\"negatives/\"))\n",
    "positives = np.array(read_images(\"positives/\"))"
   ]
  },
  {
   "cell_type": "code",
   "execution_count": 34,
   "metadata": {},
   "outputs": [
    {
     "name": "stdout",
     "output_type": "stream",
     "text": [
      "0.06666666666666667\n",
      "[[  3.51483088e-10]]\n"
     ]
    }
   ],
   "source": [
    "features_1, features_0 = (features(positives), features(negatives))\n",
    "num_samples = (len(features_0) + len(features_1))\n",
    "\n",
    "µ_0, µ_1, Σ, φ = chooo_chooo(features_0[:15], features_1[:15])\n",
    "errors = 0\n",
    "confidence_sum = 0\n",
    "for f in features_0[15:]:\n",
    "    confidence_sum += confidence(f, µ_0, µ_1, Σ, φ)\n",
    "    if is_parasite(f, µ_0, µ_1, Σ, φ):\n",
    "        errors += 1\n",
    "for f in features_1[15:]:\n",
    "    confidence_sum += confidence(f, µ_0, µ_1, Σ, φ)\n",
    "    if not is_parasite(f, µ_0, µ_1, Σ, φ):\n",
    "        errors += 1\n",
    "\n",
    "print(errors / num_samples)\n",
    "print(confidence_sum / num_samples)"
   ]
  },
  {
   "cell_type": "markdown",
   "metadata": {},
   "source": [
    "## Features\n",
    "Our inital choice of 3 features being the mean of each rgb value. Yielded a 84% accuracy on whole dataset used for both training and testing.\n",
    "\n",
    "* Test + Train set: \n",
    "    \n",
    "    0.18333333333333332\n",
    "    [[  8.57678845e-09]]\n",
    "\n",
    "* standard deviation + rgb mean:\n",
    "\n",
    "    0.06666666666666667\n",
    "    [[  3.51483088e-10]]"
   ]
  },
  {
   "cell_type": "code",
   "execution_count": null,
   "metadata": {
    "collapsed": true
   },
   "outputs": [],
   "source": []
  }
 ],
 "metadata": {
  "kernelspec": {
   "display_name": "Python 3",
   "language": "python",
   "name": "python3"
  },
  "language_info": {
   "codemirror_mode": {
    "name": "ipython",
    "version": 3
   },
   "file_extension": ".py",
   "mimetype": "text/x-python",
   "name": "python",
   "nbconvert_exporter": "python",
   "pygments_lexer": "ipython3",
   "version": "3.6.1"
  }
 },
 "nbformat": 4,
 "nbformat_minor": 2
}
