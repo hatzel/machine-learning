{
 "cells": [
  {
   "cell_type": "code",
   "execution_count": 34,
   "metadata": {
    "collapsed": true
   },
   "outputs": [],
   "source": [
    "from scipy.ndimage import imread\n",
    "%matplotlib inline\n",
    "import numpy as np\n",
    "import matplotlib.pyplot as plt\n",
    "import matplotlib.gridspec as gridspec\n",
    "from math import pi\n",
    "import os"
   ]
  },
  {
   "cell_type": "code",
   "execution_count": 35,
   "metadata": {},
   "outputs": [],
   "source": [
    "img = imread(\"negatives/n11.png\")"
   ]
  },
  {
   "cell_type": "code",
   "execution_count": 73,
   "metadata": {
    "collapsed": true
   },
   "outputs": [],
   "source": [
    "def read_images(path):\n",
    "    return [imread(path + name) for name in sorted(os.listdir(path)) if name.endswith(\".png\")]\n",
    "\n",
    "def brightness():\n",
    "    pass\n",
    "\n",
    "def show_images(images):\n",
    "    def subplot(grid, image, index, cmap=None):\n",
    "        subplot = plt.subplot(grid[i*4+index])\n",
    "        subplot.imshow(img, cmap=cmap)\n",
    "        subplot.axis('off')\n",
    "    \n",
    "    grid = gridspec.GridSpec(len(images), 4, hspace=0., wspace=0., left=0, top=1, bottom=0, right=1)\n",
    "    plt.figure(figsize=(100, 100))\n",
    "    for i in range(len(images)):\n",
    "        subplot(grid, images[i], 0)\n",
    "        subplot(grid, images[i][:,:,0], 1, 'gray')\n",
    "        subplot(grid, images[i][:,:,1], 2, 'gray')\n",
    "        subplot(grid, images[i][:,:,2], 3, 'gray')\n",
    "    grid.update(hspace=0.)\n",
    "    plt.show()\n",
    "\n"
   ]
  },
  {
   "cell_type": "code",
   "execution_count": 74,
   "metadata": {
    "collapsed": true
   },
   "outputs": [],
   "source": [
    "negatives = read_images(\"negatives/\")\n",
    "positives = read_images(\"positives/\")"
   ]
  },
  {
   "cell_type": "code",
   "execution_count": null,
   "metadata": {},
   "outputs": [],
   "source": [
    "show_images(positives)"
   ]
  },
  {
   "cell_type": "code",
   "execution_count": null,
   "metadata": {
    "collapsed": true
   },
   "outputs": [],
   "source": []
  }
 ],
 "metadata": {
  "kernelspec": {
   "display_name": "Python 3",
   "language": "python",
   "name": "python3"
  },
  "language_info": {
   "codemirror_mode": {
    "name": "ipython",
    "version": 3
   },
   "file_extension": ".py",
   "mimetype": "text/x-python",
   "name": "python",
   "nbconvert_exporter": "python",
   "pygments_lexer": "ipython3",
   "version": "3.6.0"
  }
 },
 "nbformat": 4,
 "nbformat_minor": 2
}
