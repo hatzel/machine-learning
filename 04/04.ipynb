{
 "cells": [
  {
   "cell_type": "code",
   "execution_count": 1,
   "metadata": {
    "collapsed": true
   },
   "outputs": [],
   "source": [
    "from scipy.ndimage import imread\n",
    "%matplotlib inline\n",
    "import numpy as np\n",
    "import matplotlib.pyplot as plt\n",
    "import matplotlib.gridspec as gridspec\n",
    "from math import pi as π\n",
    "import os\n",
    "from scipy import ndimage\n",
    "from numpy.linalg import det, inv\n",
    "from svmutil import *"
   ]
  },
  {
   "cell_type": "code",
   "execution_count": 16,
   "metadata": {
    "collapsed": true
   },
   "outputs": [],
   "source": [
    "img = imread(\"negatives/n11.png\")"
   ]
  },
  {
   "cell_type": "code",
   "execution_count": 4,
   "metadata": {
    "collapsed": true
   },
   "outputs": [],
   "source": [
    "def read_images(path):\n",
    "    return [imread(path + name) for name in sorted(os.listdir(path)) if name.endswith(\".png\")]\n",
    "\n",
    "def show_images(images):\n",
    "    def subplot(grid, image, index, cmap=None):\n",
    "        subplot = plt.subplot(grid[i*4+index])\n",
    "        subplot.imshow(img, cmap=cmap)\n",
    "        subplot.axis('off')\n",
    "    \n",
    "    grid = gridspec.GridSpec(len(images), 4, hspace=0., wspace=0., left=0, top=1, bottom=0, right=1)\n",
    "    plt.figure(figsize=(100, 100))\n",
    "    for i in range(len(images)):\n",
    "        subplot(grid, images[i], 0)\n",
    "        subplot(grid, images[i][:,:,0], 1, 'gray')\n",
    "        subplot(grid, images[i][:,:,1], 2, 'gray')\n",
    "        subplot(grid, images[i][:,:,2], 3, 'gray')\n",
    "    grid.update(hspace=0.)\n",
    "    plt.show()\n",
    "\n",
    "def greyscale(image):\n",
    "    return np.apply_along_axis(lambda x: sum(x) / 3, 2, image)\n",
    "    \n",
    "def rgb_features(images):\n",
    "    return np.array([np.average(np.average(image, axis=0), axis=0) for image in images])\n",
    "\n",
    "def histogram_feature(images):\n",
    "    return np.array([ndimage.histogram(image, 0, 255, 5) for image in images])\n",
    "\n",
    "def deviation_feature(images):\n",
    "    return np.array([[ndimage.standard_deviation(image)] for image in images])\n",
    "\n",
    "def laplace_feature(images):\n",
    "    return np.array([[ndimage.minimum(ndimage.sobel(greyscale(image), mode='reflect'))] for image in images])\n",
    "\n",
    "def features(images):\n",
    "    f = np.concatenate((rgb_features(images), deviation_feature(images), laplace_feature(images)), axis=1)\n",
    "    return f"
   ]
  },
  {
   "cell_type": "code",
   "execution_count": 8,
   "metadata": {},
   "outputs": [],
   "source": [
    "negatives = np.array(read_images(\"../03/negatives/\"))\n",
    "positives = np.array(read_images(\"../03/positives/\"))"
   ]
  },
  {
   "cell_type": "code",
   "execution_count": 230,
   "metadata": {},
   "outputs": [
    {
     "name": "stdout",
     "output_type": "stream",
     "text": [
      "Model\n",
      "µ₀ \t [ 165.75069444  128.09398148  127.90520833   20.44602683  -41.93333333]\n",
      "µ₁ \t [ 179.88587963  144.90381944  147.94641204   24.30642702 -197.57777778]\n",
      "Σ \t [[   8116.59812886    9060.32057432    8200.28847656     994.64075342\n",
      "   -35886.71608796]\n",
      " [   9060.32057432   11028.62910096    9625.21327984     734.50948492\n",
      "   -40419.29996142]\n",
      " [   8200.28847656    9625.21327984    9420.98863812    1138.78109748\n",
      "   -48429.72685185]\n",
      " [    994.64075342     734.50948492    1138.78109748     507.91402611\n",
      "   -10200.7379977 ]\n",
      " [ -35886.71608796  -40419.29996142  -48429.72685185  -10200.7379977\n",
      "   387142.93333333]]\n",
      "φ \t 0.5\n",
      "Error: 0.0\n",
      "Confidence: [[  7.25912648e-13]]\n"
     ]
    }
   ],
   "source": [
    "\n",
    "num_samples = (len(features_0) + len(features_1))\n",
    "\n",
    "errors = 0\n",
    "confidence_sum = 0\n",
    "for f in features_0[15:]:\n",
    "    confidence_sum += confidence(f, µ_0, µ_1, Σ, φ)\n",
    "    if is_parasite(f, µ_0, µ_1, Σ, φ):\n",
    "        errors += 1\n",
    "for f in features_1[15:]:\n",
    "    confidence_sum += confidence(f, µ_0, µ_1, Σ, φ)\n",
    "    if not is_parasite(f, µ_0, µ_1, Σ, φ):\n",
    "        errors += 1\n",
    "\n",
    "print(\"Model\")\n",
    "print(\"µ₀ \\t\", µ_0)\n",
    "print(\"µ₁ \\t\", µ_1)\n",
    "print(\"Σ \\t\", Σ)\n",
    "print(\"φ \\t\", φ)\n",
    "\n",
    "print(\"Error:\", errors / num_samples)\n",
    "print(\"Confidence:\", confidence_sum / num_samples)"
   ]
  },
  {
   "cell_type": "code",
   "execution_count": 17,
   "metadata": {},
   "outputs": [
    {
     "name": "stdout",
     "output_type": "stream",
     "text": [
      "Accuracy = 84.2857% (59/70) (classification)\n"
     ]
    }
   ],
   "source": [
    "y, x = svm_read_problem('heart_scale')\n",
    "m = svm_train(y[:200], x[:200], '-c 4')\n",
    "p_label, p_acc, p_val = svm_predict(y[200:], x[200:], m)"
   ]
  },
  {
   "cell_type": "code",
   "execution_count": 44,
   "metadata": {},
   "outputs": [
    {
     "name": "stdout",
     "output_type": "stream",
     "text": [
      "linear\n",
      "Model supports probability estimates, but disabled in predicton.\n",
      "Accuracy = 100% (30/30) (classification)\n",
      "\n",
      "polynomial\n",
      "Model supports probability estimates, but disabled in predicton.\n",
      "Accuracy = 100% (30/30) (classification)\n",
      "\n",
      "radial-basis\n",
      "Model supports probability estimates, but disabled in predicton.\n",
      "Accuracy = 50% (15/30) (classification)\n",
      "\n",
      "sigmoid\n",
      "Model supports probability estimates, but disabled in predicton.\n",
      "Accuracy = 50% (15/30) (classification)\n",
      "\n"
     ]
    }
   ],
   "source": [
    "x = [list(l) for l in np.concatenate((features(positives), features(negatives)), axis=0)]\n",
    "x_train = x[::2]\n",
    "x_test = x[1::2]\n",
    "y = [1] * len(positives) + [-1] * len(negatives)\n",
    "y_train = y[::2]\n",
    "y_test = y[1::2]\n",
    "\n",
    "\n",
    "prob = svm_problem(y_train, x_train)\n",
    "for t, t_name in enumerate((\"linear\", \"polynomial\", \"radial-basis\", \"sigmoid\")):\n",
    "    param = svm_parameter('-t %d -c 4 -b 1' % t)\n",
    "    m = svm_train(prob, param)\n",
    "    print(t_name)\n",
    "    p_label, p_acc, p_val = svm_predict(y_test, x_test, m)\n",
    "    print()"
   ]
  },
  {
   "cell_type": "code",
   "execution_count": 38,
   "metadata": {},
   "outputs": [
    {
     "name": "stdout",
     "output_type": "stream",
     "text": [
      "[1, 1, 1, 1, 1, 1, 1, 1, 1, 1, 1, 1, 1, 1, 1, -1, -1, -1, -1, -1, -1, -1, -1, -1, -1, -1, -1, -1, -1, -1]\n"
     ]
    }
   ],
   "source": []
  },
  {
   "cell_type": "code",
   "execution_count": null,
   "metadata": {
    "collapsed": true
   },
   "outputs": [],
   "source": []
  }
 ],
 "metadata": {
  "kernelspec": {
   "display_name": "Python 3",
   "language": "python",
   "name": "python3"
  },
  "language_info": {
   "codemirror_mode": {
    "name": "ipython",
    "version": 3
   },
   "file_extension": ".py",
   "mimetype": "text/x-python",
   "name": "python",
   "nbconvert_exporter": "python",
   "pygments_lexer": "ipython3",
   "version": "3.6.1"
  }
 },
 "nbformat": 4,
 "nbformat_minor": 2
}
