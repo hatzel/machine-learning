{
 "cells": [
  {
   "cell_type": "code",
   "execution_count": 26,
   "metadata": {
    "collapsed": true
   },
   "outputs": [],
   "source": [
    "%matplotlib inline\n",
    "import numpy as np\n",
    "import matplotlib.pyplot as plt\n",
    "from math import pi\n",
    "\n",
    "from matplotlib import animation, rc\n",
    "from IPython.display import HTML"
   ]
  },
  {
   "cell_type": "code",
   "execution_count": 27,
   "metadata": {
    "collapsed": true
   },
   "outputs": [],
   "source": [
    "def random_data(xs):\n",
    "    noise = np.random.rand(len(xs)) * 0.2 - 0.1\n",
    "    values = np.sin(xs * 2 * pi)\n",
    "    return values + noise \n",
    "\n",
    "def draw(theta, xs, iteration):\n",
    "    ys = []\n",
    "    for x in xs:\n",
    "        ys.append(hyp(theta, x))\n",
    "    plt.plot(xs, ys, color=(0.6, 0.8 * iteration, 0.6))\n",
    "    \n",
    "def cost(theta, xs, ys):\n",
    "    total_error = 0\n",
    "    for i, x in enumerate(xs):\n",
    "        total_error += (ys[i] - hyp(theta, x)) ** 2\n",
    "    return total_error / 2\n",
    "\n",
    "def hyp(theta, x, polynomial=True):\n",
    "    summed = 0\n",
    "    for i, t in enumerate(theta):\n",
    "        summed += t * (x ** i) if polynomial else t * x\n",
    "    return summed\n",
    "    "
   ]
  },
  {
   "cell_type": "code",
   "execution_count": 28,
   "metadata": {
    "collapsed": true
   },
   "outputs": [],
   "source": [
    "alpha = 0.5\n",
    "length = 100\n",
    "xs = np.linspace(0, 1, length)\n",
    "ys = random_data(xs)"
   ]
  },
  {
   "cell_type": "code",
   "execution_count": 36,
   "metadata": {},
   "outputs": [
    {
     "data": {
      "image/png": "[encoded data removed]",
      "text/plain": [
       "<matplotlib.figure.Figure at 0x7f3a9afbc2e8>"
      ]
     },
     "metadata": {},
     "output_type": "display_data"
    }
   ],
   "source": [
    "plt.scatter(xs, ys)\n",
    "plt.plot(xs, np.sin(xs * 2 * pi), color=\"red\")\n",
    "\n",
    "theta = np.random.rand(4)\n",
    "iterations = 5000\n",
    "for iteration in range(iterations):\n",
    "    for i, x in enumerate(xs):\n",
    "        new_theta = np.copy(theta)\n",
    "        for j in range(len(theta)):\n",
    "            new_theta[j] = theta[j] + (alpha * (ys[i] - hyp(theta, x)) * (x ** j))\n",
    "        theta = new_theta\n",
    "    #if iteration % int(iterations/10) == 0:\n",
    "    #    draw(theta, xs, iteration/iterations)\n",
    "        \n",
    "draw(theta, xs, 0.5)"
   ]
  },
  {
   "cell_type": "markdown",
   "metadata": {
    "collapsed": true
   },
   "source": [
    "## Names\n",
    "Rafael Epplee & Hans Ole Hatzel\n",
    "\n",
    "## Alpha Value\n",
    "Choosing different alpha values can speed up the learning process in that fewer iterations are required to get a reasonable approximation. But large alpha values can also lead to the resulting function being a worse estimation as the step size is to large to get close to the correct function.\n",
    "\n",
    "* 0.005 only produce good results for large numbers of iterations ~10.000\n",
    "* 0.05 produced good approximations faster\n",
    "* 0.5 still yields a decent aproximation in just 5.000 iterations\n",
    "* 0.8 produces bad results regardless of the number of iteartions\n",
    "\n",
    "A reasonable alpha value would be 0.5."
   ]
  }
 ],
 "metadata": {
  "kernelspec": {
   "display_name": "Python 3",
   "language": "python",
   "name": "python3"
  },
  "language_info": {
   "codemirror_mode": {
    "name": "ipython",
    "version": 3
   },
   "file_extension": ".py",
   "mimetype": "text/x-python",
   "name": "python",
   "nbconvert_exporter": "python",
   "pygments_lexer": "ipython3",
   "version": "3.6.0"
  }
 },
 "nbformat": 4,
 "nbformat_minor": 2
}
