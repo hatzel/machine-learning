{
 "cells": [
  {
   "cell_type": "code",
   "execution_count": 8,
   "metadata": {
    "collapsed": true,
    "deletable": true,
    "editable": true
   },
   "outputs": [],
   "source": [
    "%matplotlib inline\n",
    "import numpy as np\n",
    "import matplotlib.pyplot as plt\n",
    "from math import pi\n"
   ]
  },
  {
   "cell_type": "code",
   "execution_count": 25,
   "metadata": {
    "collapsed": false,
    "deletable": true,
    "editable": true
   },
   "outputs": [],
   "source": [
    "#tmp = np.linspace(0, 1, 100)\n",
    "#ones = np.ones((1, 100), dtype='float')\n",
    "#xs = np.concatenate((ones, np.reshape(tmp, (1, 100))))\n",
    "#m = xs.shape[1]\n",
    "\n",
    "length = 100\n",
    "xs = np.linspace(0, 1, length)\n",
    "ys = random_data(xs)"
   ]
  },
  {
   "cell_type": "code",
   "execution_count": 26,
   "metadata": {
    "collapsed": true
   },
   "outputs": [],
   "source": [
    "theta = np.random.rand(3)"
   ]
  },
  {
   "cell_type": "code",
   "execution_count": 27,
   "metadata": {
    "collapsed": false,
    "deletable": true,
    "editable": true
   },
   "outputs": [],
   "source": [
    "def random_data(xs):\n",
    "    noise = np.random.rand(len(xs)) * 0.2 - 0.1\n",
    "    values = np.sin(xs * 2 * pi)\n",
    "    return values + noise \n",
    "\n",
    "def cost(theta, xs, ys):\n",
    "    guessed = hyp(theta, xs)\n",
    "    error = np.sum((guessed - ys) ** 2) * 0.5\n",
    "    return error\n",
    "\n",
    "def hyp(theta, xs, polynomial=True):\n",
    "    summed = np.zeros(xs.shape)\n",
    "    for i, t in enumerate(theta):\n",
    "        summed += t * (xs ** i) if polynomial else t * xs\n",
    "    return summed"
   ]
  },
  {
   "cell_type": "code",
   "execution_count": 32,
   "metadata": {
    "collapsed": false,
    "deletable": true,
    "editable": true
   },
   "outputs": [
    {
     "data": {
      "text/plain": [
       "105.75455935259963"
      ]
     },
     "execution_count": 32,
     "metadata": {},
     "output_type": "execute_result"
    }
   ],
   "source": [
    "cost(theta, xs, ys)"
   ]
  },
  {
   "cell_type": "code",
   "execution_count": 19,
   "metadata": {
    "collapsed": false,
    "deletable": true,
    "editable": true
   },
   "outputs": [
    {
     "data": {
      "text/plain": [
       "array([[ 1.        ,  1.        ,  1.        ,  1.        ,  1.        ,\n",
       "         1.        ,  1.        ,  1.        ,  1.        ,  1.        ,\n",
       "         1.        ,  1.        ,  1.        ,  1.        ,  1.        ,\n",
       "         1.        ,  1.        ,  1.        ,  1.        ,  1.        ,\n",
       "         1.        ,  1.        ,  1.        ,  1.        ,  1.        ,\n",
       "         1.        ,  1.        ,  1.        ,  1.        ,  1.        ,\n",
       "         1.        ,  1.        ,  1.        ,  1.        ,  1.        ,\n",
       "         1.        ,  1.        ,  1.        ,  1.        ,  1.        ,\n",
       "         1.        ,  1.        ,  1.        ,  1.        ,  1.        ,\n",
       "         1.        ,  1.        ,  1.        ,  1.        ,  1.        ,\n",
       "         1.        ,  1.        ,  1.        ,  1.        ,  1.        ,\n",
       "         1.        ,  1.        ,  1.        ,  1.        ,  1.        ,\n",
       "         1.        ,  1.        ,  1.        ,  1.        ,  1.        ,\n",
       "         1.        ,  1.        ,  1.        ,  1.        ,  1.        ,\n",
       "         1.        ,  1.        ,  1.        ,  1.        ,  1.        ,\n",
       "         1.        ,  1.        ,  1.        ,  1.        ,  1.        ,\n",
       "         1.        ,  1.        ,  1.        ,  1.        ,  1.        ,\n",
       "         1.        ,  1.        ,  1.        ,  1.        ,  1.        ,\n",
       "         1.        ,  1.        ,  1.        ,  1.        ,  1.        ,\n",
       "         1.        ,  1.        ,  1.        ,  1.        ,  1.        ],\n",
       "       [ 0.        ,  0.01010101,  0.02020202,  0.03030303,  0.04040404,\n",
       "         0.05050505,  0.06060606,  0.07070707,  0.08080808,  0.09090909,\n",
       "         0.1010101 ,  0.11111111,  0.12121212,  0.13131313,  0.14141414,\n",
       "         0.15151515,  0.16161616,  0.17171717,  0.18181818,  0.19191919,\n",
       "         0.2020202 ,  0.21212121,  0.22222222,  0.23232323,  0.24242424,\n",
       "         0.25252525,  0.26262626,  0.27272727,  0.28282828,  0.29292929,\n",
       "         0.3030303 ,  0.31313131,  0.32323232,  0.33333333,  0.34343434,\n",
       "         0.35353535,  0.36363636,  0.37373737,  0.38383838,  0.39393939,\n",
       "         0.4040404 ,  0.41414141,  0.42424242,  0.43434343,  0.44444444,\n",
       "         0.45454545,  0.46464646,  0.47474747,  0.48484848,  0.49494949,\n",
       "         0.50505051,  0.51515152,  0.52525253,  0.53535354,  0.54545455,\n",
       "         0.55555556,  0.56565657,  0.57575758,  0.58585859,  0.5959596 ,\n",
       "         0.60606061,  0.61616162,  0.62626263,  0.63636364,  0.64646465,\n",
       "         0.65656566,  0.66666667,  0.67676768,  0.68686869,  0.6969697 ,\n",
       "         0.70707071,  0.71717172,  0.72727273,  0.73737374,  0.74747475,\n",
       "         0.75757576,  0.76767677,  0.77777778,  0.78787879,  0.7979798 ,\n",
       "         0.80808081,  0.81818182,  0.82828283,  0.83838384,  0.84848485,\n",
       "         0.85858586,  0.86868687,  0.87878788,  0.88888889,  0.8989899 ,\n",
       "         0.90909091,  0.91919192,  0.92929293,  0.93939394,  0.94949495,\n",
       "         0.95959596,  0.96969697,  0.97979798,  0.98989899,  1.        ]])"
      ]
     },
     "execution_count": 19,
     "metadata": {},
     "output_type": "execute_result"
    }
   ],
   "source": [
    "for x in range(len(xs)):\n",
    "    theta = theta + alpha * "
   ]
  },
  {
   "cell_type": "code",
   "execution_count": null,
   "metadata": {
    "collapsed": true
   },
   "outputs": [],
   "source": []
  }
 ],
 "metadata": {
  "kernelspec": {
   "display_name": "Python 3",
   "language": "python",
   "name": "python3"
  },
  "language_info": {
   "codemirror_mode": {
    "name": "ipython",
    "version": 3
   },
   "file_extension": ".py",
   "mimetype": "text/x-python",
   "name": "python",
   "nbconvert_exporter": "python",
   "pygments_lexer": "ipython3",
   "version": "3.6.0"
  }
 },
 "nbformat": 4,
 "nbformat_minor": 2
}
