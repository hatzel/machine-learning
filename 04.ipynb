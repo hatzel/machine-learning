{
 "cells": [
  {
   "cell_type": "code",
   "execution_count": null,
   "metadata": {
    "collapsed": true
   },
   "outputs": [],
   "source": [
    "from scipy.ndimage import imread\n",
    "%matplotlib inline\n",
    "import numpy as np\n",
    "import matplotlib.pyplot as plt\n",
    "import matplotlib.gridspec as gridspec\n",
    "from math import pi as π\n",
    "import os\n",
    "from scipy import ndimage\n",
    "from numpy.linalg import det, inv\n",
    "from svmutil import *"
   ]
  },
  {
   "cell_type": "code",
   "execution_count": null,
   "metadata": {
    "collapsed": true
   },
   "outputs": [],
   "source": [
    "img = imread(\"negatives/n11.png\")"
   ]
  },
  {
   "cell_type": "code",
   "execution_count": null,
   "metadata": {
    "collapsed": true
   },
   "outputs": [],
   "source": [
    "def read_images(path):\n",
    "    return [imread(path + name) for name in sorted(os.listdir(path)) if name.endswith(\".png\")]\n",
    "\n",
    "def show_images(images):\n",
    "    def subplot(grid, image, index, cmap=None):\n",
    "        subplot = plt.subplot(grid[i*4+index])\n",
    "        subplot.imshow(img, cmap=cmap)\n",
    "        subplot.axis('off')\n",
    "    \n",
    "    grid = gridspec.GridSpec(len(images), 4, hspace=0., wspace=0., left=0, top=1, bottom=0, right=1)\n",
    "    plt.figure(figsize=(100, 100))\n",
    "    for i in range(len(images)):\n",
    "        subplot(grid, images[i], 0)\n",
    "        subplot(grid, images[i][:,:,0], 1, 'gray')\n",
    "        subplot(grid, images[i][:,:,1], 2, 'gray')\n",
    "        subplot(grid, images[i][:,:,2], 3, 'gray')\n",
    "    grid.update(hspace=0.)\n",
    "    plt.show()\n",
    "\n",
    "def greyscale(image):\n",
    "    return np.apply_along_axis(lambda x: sum(x) / 3, 2, image)\n",
    "    \n",
    "def rgb_features(images):\n",
    "    return np.array([np.average(np.average(image, axis=0), axis=0) for image in images])\n",
    "\n",
    "def histogram_feature(images):\n",
    "    return np.array([ndimage.histogram(image, 0, 255, 5) for image in images])\n",
    "\n",
    "def deviation_feature(images):\n",
    "    return np.array([[ndimage.standard_deviation(image)] for image in images])\n",
    "\n",
    "def laplace_feature(images):\n",
    "    return np.array([[ndimage.minimum(ndimage.sobel(greyscale(image), mode='reflect'))] for image in images])\n",
    "\n",
    "def features(images):\n",
    "    f = np.concatenate((rgb_features(images), deviation_feature(images), laplace_feature(images)), axis=1)\n",
    "    return f"
   ]
  },
  {
   "cell_type": "code",
   "execution_count": null,
   "metadata": {},
   "outputs": [],
   "source": [
    "negatives = np.array(read_images(\"../03/negatives/\"))\n",
    "positives = np.array(read_images(\"../03/positives/\"))"
   ]
  },
  {
   "cell_type": "code",
   "execution_count": null,
   "metadata": {},
   "outputs": [],
   "source": [
    "y, x = svm_read_problem('heart_scale')\n",
    "m = svm_train(y[:200], x[:200], '-c 4')\n",
    "p_label, p_acc, p_val = svm_predict(y[200:], x[200:], m)"
   ]
  },
  {
   "cell_type": "code",
   "execution_count": null,
   "metadata": {},
   "outputs": [],
   "source": [
    "x = [list(l) for l in np.concatenate((features(positives), features(negatives)), axis=0)]\n",
    "x_train = x[::2]\n",
    "x_test = x[1::2]\n",
    "y = [1] * len(positives) + [-1] * len(negatives)\n",
    "y_train = y[::2]\n",
    "y_test = y[1::2]\n",
    "\n",
    "\n",
    "prob = svm_problem(y_train, x_train)\n",
    "for t, t_name in enumerate((\"linear\", \"polynomial\", \"radial-basis\", \"sigmoid\")):\n",
    "    param = svm_parameter('-t %d -c 4 -b 1' % t)\n",
    "    m = svm_train(prob, param)\n",
    "    print(t_name)\n",
    "    p_label, p_acc, p_val = svm_predict(y_test, x_test, m)\n",
    "    print()"
   ]
  },
  {
   "cell_type": "code",
   "execution_count": 38,
   "metadata": {},
   "outputs": [
    {
     "name": "stdout",
     "output_type": "stream",
     "text": [
      "[1, 1, 1, 1, 1, 1, 1, 1, 1, 1, 1, 1, 1, 1, 1, -1, -1, -1, -1, -1, -1, -1, -1, -1, -1, -1, -1, -1, -1, -1]\n"
     ]
    }
   ],
   "source": []
  },
  {
   "cell_type": "code",
   "execution_count": null,
   "metadata": {
    "collapsed": true
   },
   "outputs": [],
   "source": []
  }
 ],
 "metadata": {
  "kernelspec": {
   "display_name": "Python 3",
   "language": "python",
   "name": "python3"
  },
  "language_info": {
   "codemirror_mode": {
    "name": "ipython",
    "version": 3
   },
   "file_extension": ".py",
   "mimetype": "text/x-python",
   "name": "python",
   "nbconvert_exporter": "python",
   "pygments_lexer": "ipython3",
   "version": "3.6.1"
  }
 },
 "nbformat": 4,
 "nbformat_minor": 2
}
