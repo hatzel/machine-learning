{
 "cells": [
  {
   "cell_type": "code",
   "execution_count": 2,
   "metadata": {
    "collapsed": true
   },
   "outputs": [],
   "source": [
    "import pandas as pd\n",
    "import numpy as np\n",
    "import random\n",
    "%matplotlib inline\n",
    "import matplotlib.pyplot as plt"
   ]
  },
  {
   "cell_type": "code",
   "execution_count": 4,
   "metadata": {},
   "outputs": [],
   "source": [
    "T = 30\n",
    "\n",
    "data = pd.read_csv(\"dataCircle.txt\", \n",
    "                   names=['x_1', 'x_2', 'y'],\n",
    "                   delim_whitespace=True,\n",
    "                   dtype={\"x_1\": np.float64, \"x_2\": np.float64},\n",
    "                   converters={\"y\": lambda x: float(x) * 2 - 1}\n",
    "                  )\n",
    "\n",
    "m = len(data)\n",
    "D = [1/m] * m\n",
    "\n",
    "def gen_classifier(data):\n",
    "    feature = random.choice([\"x_1\", \"x_2\"])\n",
    "    bounds = (data[feature].min()-1, data[feature].max()+1)\n",
    "    threshold = np.random.uniform(bounds[0], bounds[1])\n",
    "    parity = 1\n",
    "    classifier = (threshold, feature, parity)\n",
    "    if ϵ(classifier) >= 0.5:\n",
    "        parity = -1\n",
    "    return (threshold, feature, parity)\n",
    "\n",
    "def ϵ(h, D=None):\n",
    "    s = 0\n",
    "    filtered = data[data.apply(lambda x: x[\"y\"] != apply_classifier(x, *h), axis=1)]\n",
    "    for i, (x1, x2, y) in filtered.iterrows():\n",
    "        s += D[i] if D else 1/m\n",
    "    return s\n",
    "\n",
    "def apply_classifier(x, threshold, feature, parity):\n",
    "    return parity if x[feature] < threshold else -parity\n",
    "    \n",
    "def plot_iteration(model, D, data):\n",
    "    predicted = data.apply(lambda x: [x[\"x_1\"], x[\"x_2\"], F(x, model)], axis=1)\n",
    "    plot_distribution(predicted, D)\n",
    "    [plot_lines(iteration) for iteration in model]\n",
    "    \n",
    "def scatter(data):\n",
    "    data.plot.scatter(x=\"x_1\", y=\"x_2\", c=\"y\", colormap=\"cool\")\n",
    "    \n",
    "def plot_distribution(data, D):\n",
    "    data.plot.scatter(x=\"x_1\", y=\"x_2\", c=\"y\", colormap=\"cool\", s=[d * 1000 for d in D])\n",
    "    \n",
    "def plot_lines(iteration):\n",
    "    (alpha, (threshold, feature, parity)) = iteration\n",
    "    if feature == \"x_1\":\n",
    "        plt.axvline(threshold)\n",
    "    else:\n",
    "        plt.axhline(threshold)\n",
    "\n",
    "def F(x, model):\n",
    "    return 1 if sum((a * apply_classifier(x, *h) for a, h in model)) > 0 else -1\n",
    "\n",
    "model = []\n",
    "for t in range(T):\n",
    "    classifier_candidates = [gen_classifier(data) for _ in range(100)]\n",
    "    classifier = min(classifier_candidates, key=lambda h: ϵ(h, D))\n",
    "    error = ϵ(classifier, D)\n",
    "    alpha = 1/2 * np.log((1 - error) / error)\n",
    "    model.append((alpha, classifier))\n",
    "    \n",
    "    D = [d * np.exp(-alpha * data[\"y\"][i] * apply_classifier(data.iloc[i], *classifier)) for i, d in enumerate(D)]\n",
    "    Z = 1 / sum(D)\n",
    "    D = [Z * d for d in D]"
   ]
  },
  {
   "cell_type": "code",
   "execution_count": null,
   "metadata": {
    "collapsed": true
   },
   "outputs": [],
   "source": []
  }
 ],
 "metadata": {
  "kernelspec": {
   "display_name": "Python 3",
   "language": "python",
   "name": "python3"
  },
  "language_info": {
   "codemirror_mode": {
    "name": "ipython",
    "version": 3
   },
   "file_extension": ".py",
   "mimetype": "text/x-python",
   "name": "python",
   "nbconvert_exporter": "python",
   "pygments_lexer": "ipython3",
   "version": "3.6.1"
  }
 },
 "nbformat": 4,
 "nbformat_minor": 2
}
